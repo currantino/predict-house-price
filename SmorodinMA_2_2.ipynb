{
  "cells": [
    {
      "cell_type": "markdown",
      "metadata": {
        "datalore": {
          "hide_input_from_viewers": true,
          "hide_output_from_viewers": true,
          "node_id": "CFxNZVf0hbNxeCop4nIN2T",
          "type": "MD"
        },
        "id": "mT9kPIZQqgbE"
      },
      "source": [
        "## Прогнозирование цен на жилье с помощью нейросетевой регрессионной модели\n",
        "\n",
        "Необходимо по имеющимся данным о ценах на жильё предсказать окончательную цену каждого дома с учетом характеристик домов с использованием нейронной сети. Описание набора данных  содержит 80 классов (набор переменых) классификации оценки типа жилья, и находится в файле `data_description.txt`.\n",
        "\n",
        "В работе требуется дополнить раздел «Моделирование» в подразделе «Построение и обучение модели» создать и инициализировать последовательную модель нейронной сети с помощью фрэймворков тренировки нейронных сетей как: Torch или Tensorflow. Скомпилировать нейронную сеть выбрав функцию потерь и оптимизатор соответственно. Оценить точность полученных результатов. Вывести предсказанные данные о продаже. \n",
        "\n",
        "\n",
        "### Импорт библиотек\n",
        "Импортируем необходимые библиотеки:"
      ]
    },
    {
      "cell_type": "code",
      "execution_count": 6,
      "metadata": {
        "datalore": {
          "hide_input_from_viewers": true,
          "hide_output_from_viewers": true,
          "node_id": "BuwU26gdC1ZUAFRZo5cgMp",
          "type": "CODE"
        },
        "id": "ujtj2Nb8qgbJ",
        "vscode": {
          "languageId": "python"
        }
      },
      "outputs": [],
      "source": [
        "import numpy as np\n",
        "import pandas as pd\n",
        "import matplotlib.pyplot as plt\n",
        "import seaborn as sns\n",
        "from sklearn.model_selection import train_test_split"
      ]
    },
    {
      "cell_type": "markdown",
      "metadata": {
        "datalore": {
          "hide_input_from_viewers": true,
          "hide_output_from_viewers": true,
          "node_id": "yDvlZr4HAkGEmZYhi0oxLW",
          "type": "MD"
        },
        "id": "aUAVjNSlqgbL"
      },
      "source": [
        "### Считываем набор данных\n",
        "\n",
        "\n",
        "Загрузим набор данных и присвоим следующими переменные:\n",
        "\n",
        "* `train_data`: данные, используемые для обучения модели\n",
        "* `test_data`: данные, используемые для проверки модели"
      ]
    },
    {
      "cell_type": "code",
      "execution_count": 7,
      "metadata": {
        "datalore": {
          "hide_input_from_viewers": true,
          "hide_output_from_viewers": true,
          "node_id": "cv3SeTOL5K6waszFLFVrHV",
          "type": "CODE"
        },
        "id": "SW0dVp58qgbL",
        "vscode": {
          "languageId": "python"
        }
      },
      "outputs": [],
      "source": [
        "train_data = pd.read_csv('https://raw.githubusercontent.com/currantino/predict-house-price/master/data/train.csv')\n",
        "test_data = pd.read_csv('https://raw.githubusercontent.com/currantino/predict-house-price/master/data/test.csv')"
      ]
    },
    {
      "cell_type": "markdown",
      "metadata": {
        "datalore": {
          "hide_input_from_viewers": true,
          "hide_output_from_viewers": true,
          "node_id": "OkRocMZR6KzqkfMDYArdLj",
          "type": "MD"
        },
        "id": "IrjsAkiAqgbM"
      },
      "source": [
        "## Подготовка данных\n",
        "### Отобразим обучающие и проверочные данные:"
      ]
    },
    {
      "cell_type": "code",
      "execution_count": 8,
      "metadata": {
        "colab": {
          "base_uri": "https://localhost:8080/",
          "height": 236
        },
        "datalore": {
          "hide_input_from_viewers": true,
          "hide_output_from_viewers": true,
          "node_id": "FeQpLhWFiCUvkwKTZJGt77",
          "type": "CODE"
        },
        "id": "Dlo0o7PeqgbM",
        "outputId": "1912c1cc-02e0-4596-9439-cb435179dc73",
        "vscode": {
          "languageId": "python"
        }
      },
      "outputs": [
        {
          "data": {
            "text/html": [
              "\n",
              "  <div id=\"df-2c4ecaff-c05b-45de-99e5-bc64bf3ba637\">\n",
              "    <div class=\"colab-df-container\">\n",
              "      <div>\n",
              "<style scoped>\n",
              "    .dataframe tbody tr th:only-of-type {\n",
              "        vertical-align: middle;\n",
              "    }\n",
              "\n",
              "    .dataframe tbody tr th {\n",
              "        vertical-align: top;\n",
              "    }\n",
              "\n",
              "    .dataframe thead th {\n",
              "        text-align: right;\n",
              "    }\n",
              "</style>\n",
              "<table border=\"1\" class=\"dataframe\">\n",
              "  <thead>\n",
              "    <tr style=\"text-align: right;\">\n",
              "      <th></th>\n",
              "      <th>Id</th>\n",
              "      <th>MSSubClass</th>\n",
              "      <th>MSZoning</th>\n",
              "      <th>LotFrontage</th>\n",
              "      <th>LotArea</th>\n",
              "      <th>Street</th>\n",
              "      <th>Alley</th>\n",
              "      <th>LotShape</th>\n",
              "      <th>LandContour</th>\n",
              "      <th>Utilities</th>\n",
              "      <th>...</th>\n",
              "      <th>PoolArea</th>\n",
              "      <th>PoolQC</th>\n",
              "      <th>Fence</th>\n",
              "      <th>MiscFeature</th>\n",
              "      <th>MiscVal</th>\n",
              "      <th>MoSold</th>\n",
              "      <th>YrSold</th>\n",
              "      <th>SaleType</th>\n",
              "      <th>SaleCondition</th>\n",
              "      <th>SalePrice</th>\n",
              "    </tr>\n",
              "  </thead>\n",
              "  <tbody>\n",
              "    <tr>\n",
              "      <th>0</th>\n",
              "      <td>1</td>\n",
              "      <td>60</td>\n",
              "      <td>RL</td>\n",
              "      <td>65.0</td>\n",
              "      <td>8450</td>\n",
              "      <td>Pave</td>\n",
              "      <td>NaN</td>\n",
              "      <td>Reg</td>\n",
              "      <td>Lvl</td>\n",
              "      <td>AllPub</td>\n",
              "      <td>...</td>\n",
              "      <td>0</td>\n",
              "      <td>NaN</td>\n",
              "      <td>NaN</td>\n",
              "      <td>NaN</td>\n",
              "      <td>0</td>\n",
              "      <td>2</td>\n",
              "      <td>2008</td>\n",
              "      <td>WD</td>\n",
              "      <td>Normal</td>\n",
              "      <td>208500</td>\n",
              "    </tr>\n",
              "    <tr>\n",
              "      <th>1</th>\n",
              "      <td>2</td>\n",
              "      <td>20</td>\n",
              "      <td>RL</td>\n",
              "      <td>80.0</td>\n",
              "      <td>9600</td>\n",
              "      <td>Pave</td>\n",
              "      <td>NaN</td>\n",
              "      <td>Reg</td>\n",
              "      <td>Lvl</td>\n",
              "      <td>AllPub</td>\n",
              "      <td>...</td>\n",
              "      <td>0</td>\n",
              "      <td>NaN</td>\n",
              "      <td>NaN</td>\n",
              "      <td>NaN</td>\n",
              "      <td>0</td>\n",
              "      <td>5</td>\n",
              "      <td>2007</td>\n",
              "      <td>WD</td>\n",
              "      <td>Normal</td>\n",
              "      <td>181500</td>\n",
              "    </tr>\n",
              "    <tr>\n",
              "      <th>2</th>\n",
              "      <td>3</td>\n",
              "      <td>60</td>\n",
              "      <td>RL</td>\n",
              "      <td>68.0</td>\n",
              "      <td>11250</td>\n",
              "      <td>Pave</td>\n",
              "      <td>NaN</td>\n",
              "      <td>IR1</td>\n",
              "      <td>Lvl</td>\n",
              "      <td>AllPub</td>\n",
              "      <td>...</td>\n",
              "      <td>0</td>\n",
              "      <td>NaN</td>\n",
              "      <td>NaN</td>\n",
              "      <td>NaN</td>\n",
              "      <td>0</td>\n",
              "      <td>9</td>\n",
              "      <td>2008</td>\n",
              "      <td>WD</td>\n",
              "      <td>Normal</td>\n",
              "      <td>223500</td>\n",
              "    </tr>\n",
              "    <tr>\n",
              "      <th>3</th>\n",
              "      <td>4</td>\n",
              "      <td>70</td>\n",
              "      <td>RL</td>\n",
              "      <td>60.0</td>\n",
              "      <td>9550</td>\n",
              "      <td>Pave</td>\n",
              "      <td>NaN</td>\n",
              "      <td>IR1</td>\n",
              "      <td>Lvl</td>\n",
              "      <td>AllPub</td>\n",
              "      <td>...</td>\n",
              "      <td>0</td>\n",
              "      <td>NaN</td>\n",
              "      <td>NaN</td>\n",
              "      <td>NaN</td>\n",
              "      <td>0</td>\n",
              "      <td>2</td>\n",
              "      <td>2006</td>\n",
              "      <td>WD</td>\n",
              "      <td>Abnorml</td>\n",
              "      <td>140000</td>\n",
              "    </tr>\n",
              "    <tr>\n",
              "      <th>4</th>\n",
              "      <td>5</td>\n",
              "      <td>60</td>\n",
              "      <td>RL</td>\n",
              "      <td>84.0</td>\n",
              "      <td>14260</td>\n",
              "      <td>Pave</td>\n",
              "      <td>NaN</td>\n",
              "      <td>IR1</td>\n",
              "      <td>Lvl</td>\n",
              "      <td>AllPub</td>\n",
              "      <td>...</td>\n",
              "      <td>0</td>\n",
              "      <td>NaN</td>\n",
              "      <td>NaN</td>\n",
              "      <td>NaN</td>\n",
              "      <td>0</td>\n",
              "      <td>12</td>\n",
              "      <td>2008</td>\n",
              "      <td>WD</td>\n",
              "      <td>Normal</td>\n",
              "      <td>250000</td>\n",
              "    </tr>\n",
              "  </tbody>\n",
              "</table>\n",
              "<p>5 rows × 81 columns</p>\n",
              "</div>\n",
              "      <button class=\"colab-df-convert\" onclick=\"convertToInteractive('df-2c4ecaff-c05b-45de-99e5-bc64bf3ba637')\"\n",
              "              title=\"Convert this dataframe to an interactive table.\"\n",
              "              style=\"display:none;\">\n",
              "        \n",
              "  <svg xmlns=\"http://www.w3.org/2000/svg\" height=\"24px\"viewBox=\"0 0 24 24\"\n",
              "       width=\"24px\">\n",
              "    <path d=\"M0 0h24v24H0V0z\" fill=\"none\"/>\n",
              "    <path d=\"M18.56 5.44l.94 2.06.94-2.06 2.06-.94-2.06-.94-.94-2.06-.94 2.06-2.06.94zm-11 1L8.5 8.5l.94-2.06 2.06-.94-2.06-.94L8.5 2.5l-.94 2.06-2.06.94zm10 10l.94 2.06.94-2.06 2.06-.94-2.06-.94-.94-2.06-.94 2.06-2.06.94z\"/><path d=\"M17.41 7.96l-1.37-1.37c-.4-.4-.92-.59-1.43-.59-.52 0-1.04.2-1.43.59L10.3 9.45l-7.72 7.72c-.78.78-.78 2.05 0 2.83L4 21.41c.39.39.9.59 1.41.59.51 0 1.02-.2 1.41-.59l7.78-7.78 2.81-2.81c.8-.78.8-2.07 0-2.86zM5.41 20L4 18.59l7.72-7.72 1.47 1.35L5.41 20z\"/>\n",
              "  </svg>\n",
              "      </button>\n",
              "      \n",
              "  <style>\n",
              "    .colab-df-container {\n",
              "      display:flex;\n",
              "      flex-wrap:wrap;\n",
              "      gap: 12px;\n",
              "    }\n",
              "\n",
              "    .colab-df-convert {\n",
              "      background-color: #E8F0FE;\n",
              "      border: none;\n",
              "      border-radius: 50%;\n",
              "      cursor: pointer;\n",
              "      display: none;\n",
              "      fill: #1967D2;\n",
              "      height: 32px;\n",
              "      padding: 0 0 0 0;\n",
              "      width: 32px;\n",
              "    }\n",
              "\n",
              "    .colab-df-convert:hover {\n",
              "      background-color: #E2EBFA;\n",
              "      box-shadow: 0px 1px 2px rgba(60, 64, 67, 0.3), 0px 1px 3px 1px rgba(60, 64, 67, 0.15);\n",
              "      fill: #174EA6;\n",
              "    }\n",
              "\n",
              "    [theme=dark] .colab-df-convert {\n",
              "      background-color: #3B4455;\n",
              "      fill: #D2E3FC;\n",
              "    }\n",
              "\n",
              "    [theme=dark] .colab-df-convert:hover {\n",
              "      background-color: #434B5C;\n",
              "      box-shadow: 0px 1px 3px 1px rgba(0, 0, 0, 0.15);\n",
              "      filter: drop-shadow(0px 1px 2px rgba(0, 0, 0, 0.3));\n",
              "      fill: #FFFFFF;\n",
              "    }\n",
              "  </style>\n",
              "\n",
              "      <script>\n",
              "        const buttonEl =\n",
              "          document.querySelector('#df-2c4ecaff-c05b-45de-99e5-bc64bf3ba637 button.colab-df-convert');\n",
              "        buttonEl.style.display =\n",
              "          google.colab.kernel.accessAllowed ? 'block' : 'none';\n",
              "\n",
              "        async function convertToInteractive(key) {\n",
              "          const element = document.querySelector('#df-2c4ecaff-c05b-45de-99e5-bc64bf3ba637');\n",
              "          const dataTable =\n",
              "            await google.colab.kernel.invokeFunction('convertToInteractive',\n",
              "                                                     [key], {});\n",
              "          if (!dataTable) return;\n",
              "\n",
              "          const docLinkHtml = 'Like what you see? Visit the ' +\n",
              "            '<a target=\"_blank\" href=https://colab.research.google.com/notebooks/data_table.ipynb>data table notebook</a>'\n",
              "            + ' to learn more about interactive tables.';\n",
              "          element.innerHTML = '';\n",
              "          dataTable['output_type'] = 'display_data';\n",
              "          await google.colab.output.renderOutput(dataTable, element);\n",
              "          const docLink = document.createElement('div');\n",
              "          docLink.innerHTML = docLinkHtml;\n",
              "          element.appendChild(docLink);\n",
              "        }\n",
              "      </script>\n",
              "    </div>\n",
              "  </div>\n",
              "  "
            ],
            "text/plain": [
              "   Id  MSSubClass MSZoning  LotFrontage  LotArea Street Alley LotShape  \\\n",
              "0   1          60       RL         65.0     8450   Pave   NaN      Reg   \n",
              "1   2          20       RL         80.0     9600   Pave   NaN      Reg   \n",
              "2   3          60       RL         68.0    11250   Pave   NaN      IR1   \n",
              "3   4          70       RL         60.0     9550   Pave   NaN      IR1   \n",
              "4   5          60       RL         84.0    14260   Pave   NaN      IR1   \n",
              "\n",
              "  LandContour Utilities  ... PoolArea PoolQC Fence MiscFeature MiscVal MoSold  \\\n",
              "0         Lvl    AllPub  ...        0    NaN   NaN         NaN       0      2   \n",
              "1         Lvl    AllPub  ...        0    NaN   NaN         NaN       0      5   \n",
              "2         Lvl    AllPub  ...        0    NaN   NaN         NaN       0      9   \n",
              "3         Lvl    AllPub  ...        0    NaN   NaN         NaN       0      2   \n",
              "4         Lvl    AllPub  ...        0    NaN   NaN         NaN       0     12   \n",
              "\n",
              "  YrSold  SaleType  SaleCondition  SalePrice  \n",
              "0   2008        WD         Normal     208500  \n",
              "1   2007        WD         Normal     181500  \n",
              "2   2008        WD         Normal     223500  \n",
              "3   2006        WD        Abnorml     140000  \n",
              "4   2008        WD         Normal     250000  \n",
              "\n",
              "[5 rows x 81 columns]"
            ]
          },
          "execution_count": 8,
          "metadata": {},
          "output_type": "execute_result"
        }
      ],
      "source": [
        "train_data.head()"
      ]
    },
    {
      "cell_type": "code",
      "execution_count": 9,
      "metadata": {
        "colab": {
          "base_uri": "https://localhost:8080/",
          "height": 236
        },
        "datalore": {
          "hide_input_from_viewers": true,
          "hide_output_from_viewers": true,
          "node_id": "PtlgCCQ1tenYmqz4uqrL0r",
          "type": "CODE"
        },
        "id": "MgvxsD1ZqgbN",
        "outputId": "eff1fd5d-3827-4a0d-8e90-5d00d53c5746",
        "vscode": {
          "languageId": "python"
        }
      },
      "outputs": [
        {
          "data": {
            "text/html": [
              "\n",
              "  <div id=\"df-3b63ad71-26db-4fd1-a779-d1d04a80d371\">\n",
              "    <div class=\"colab-df-container\">\n",
              "      <div>\n",
              "<style scoped>\n",
              "    .dataframe tbody tr th:only-of-type {\n",
              "        vertical-align: middle;\n",
              "    }\n",
              "\n",
              "    .dataframe tbody tr th {\n",
              "        vertical-align: top;\n",
              "    }\n",
              "\n",
              "    .dataframe thead th {\n",
              "        text-align: right;\n",
              "    }\n",
              "</style>\n",
              "<table border=\"1\" class=\"dataframe\">\n",
              "  <thead>\n",
              "    <tr style=\"text-align: right;\">\n",
              "      <th></th>\n",
              "      <th>Id</th>\n",
              "      <th>MSSubClass</th>\n",
              "      <th>MSZoning</th>\n",
              "      <th>LotFrontage</th>\n",
              "      <th>LotArea</th>\n",
              "      <th>Street</th>\n",
              "      <th>Alley</th>\n",
              "      <th>LotShape</th>\n",
              "      <th>LandContour</th>\n",
              "      <th>Utilities</th>\n",
              "      <th>...</th>\n",
              "      <th>ScreenPorch</th>\n",
              "      <th>PoolArea</th>\n",
              "      <th>PoolQC</th>\n",
              "      <th>Fence</th>\n",
              "      <th>MiscFeature</th>\n",
              "      <th>MiscVal</th>\n",
              "      <th>MoSold</th>\n",
              "      <th>YrSold</th>\n",
              "      <th>SaleType</th>\n",
              "      <th>SaleCondition</th>\n",
              "    </tr>\n",
              "  </thead>\n",
              "  <tbody>\n",
              "    <tr>\n",
              "      <th>0</th>\n",
              "      <td>1461</td>\n",
              "      <td>20</td>\n",
              "      <td>RH</td>\n",
              "      <td>80.0</td>\n",
              "      <td>11622</td>\n",
              "      <td>Pave</td>\n",
              "      <td>NaN</td>\n",
              "      <td>Reg</td>\n",
              "      <td>Lvl</td>\n",
              "      <td>AllPub</td>\n",
              "      <td>...</td>\n",
              "      <td>120</td>\n",
              "      <td>0</td>\n",
              "      <td>NaN</td>\n",
              "      <td>MnPrv</td>\n",
              "      <td>NaN</td>\n",
              "      <td>0</td>\n",
              "      <td>6</td>\n",
              "      <td>2010</td>\n",
              "      <td>WD</td>\n",
              "      <td>Normal</td>\n",
              "    </tr>\n",
              "    <tr>\n",
              "      <th>1</th>\n",
              "      <td>1462</td>\n",
              "      <td>20</td>\n",
              "      <td>RL</td>\n",
              "      <td>81.0</td>\n",
              "      <td>14267</td>\n",
              "      <td>Pave</td>\n",
              "      <td>NaN</td>\n",
              "      <td>IR1</td>\n",
              "      <td>Lvl</td>\n",
              "      <td>AllPub</td>\n",
              "      <td>...</td>\n",
              "      <td>0</td>\n",
              "      <td>0</td>\n",
              "      <td>NaN</td>\n",
              "      <td>NaN</td>\n",
              "      <td>Gar2</td>\n",
              "      <td>12500</td>\n",
              "      <td>6</td>\n",
              "      <td>2010</td>\n",
              "      <td>WD</td>\n",
              "      <td>Normal</td>\n",
              "    </tr>\n",
              "    <tr>\n",
              "      <th>2</th>\n",
              "      <td>1463</td>\n",
              "      <td>60</td>\n",
              "      <td>RL</td>\n",
              "      <td>74.0</td>\n",
              "      <td>13830</td>\n",
              "      <td>Pave</td>\n",
              "      <td>NaN</td>\n",
              "      <td>IR1</td>\n",
              "      <td>Lvl</td>\n",
              "      <td>AllPub</td>\n",
              "      <td>...</td>\n",
              "      <td>0</td>\n",
              "      <td>0</td>\n",
              "      <td>NaN</td>\n",
              "      <td>MnPrv</td>\n",
              "      <td>NaN</td>\n",
              "      <td>0</td>\n",
              "      <td>3</td>\n",
              "      <td>2010</td>\n",
              "      <td>WD</td>\n",
              "      <td>Normal</td>\n",
              "    </tr>\n",
              "    <tr>\n",
              "      <th>3</th>\n",
              "      <td>1464</td>\n",
              "      <td>60</td>\n",
              "      <td>RL</td>\n",
              "      <td>78.0</td>\n",
              "      <td>9978</td>\n",
              "      <td>Pave</td>\n",
              "      <td>NaN</td>\n",
              "      <td>IR1</td>\n",
              "      <td>Lvl</td>\n",
              "      <td>AllPub</td>\n",
              "      <td>...</td>\n",
              "      <td>0</td>\n",
              "      <td>0</td>\n",
              "      <td>NaN</td>\n",
              "      <td>NaN</td>\n",
              "      <td>NaN</td>\n",
              "      <td>0</td>\n",
              "      <td>6</td>\n",
              "      <td>2010</td>\n",
              "      <td>WD</td>\n",
              "      <td>Normal</td>\n",
              "    </tr>\n",
              "    <tr>\n",
              "      <th>4</th>\n",
              "      <td>1465</td>\n",
              "      <td>120</td>\n",
              "      <td>RL</td>\n",
              "      <td>43.0</td>\n",
              "      <td>5005</td>\n",
              "      <td>Pave</td>\n",
              "      <td>NaN</td>\n",
              "      <td>IR1</td>\n",
              "      <td>HLS</td>\n",
              "      <td>AllPub</td>\n",
              "      <td>...</td>\n",
              "      <td>144</td>\n",
              "      <td>0</td>\n",
              "      <td>NaN</td>\n",
              "      <td>NaN</td>\n",
              "      <td>NaN</td>\n",
              "      <td>0</td>\n",
              "      <td>1</td>\n",
              "      <td>2010</td>\n",
              "      <td>WD</td>\n",
              "      <td>Normal</td>\n",
              "    </tr>\n",
              "  </tbody>\n",
              "</table>\n",
              "<p>5 rows × 80 columns</p>\n",
              "</div>\n",
              "      <button class=\"colab-df-convert\" onclick=\"convertToInteractive('df-3b63ad71-26db-4fd1-a779-d1d04a80d371')\"\n",
              "              title=\"Convert this dataframe to an interactive table.\"\n",
              "              style=\"display:none;\">\n",
              "        \n",
              "  <svg xmlns=\"http://www.w3.org/2000/svg\" height=\"24px\"viewBox=\"0 0 24 24\"\n",
              "       width=\"24px\">\n",
              "    <path d=\"M0 0h24v24H0V0z\" fill=\"none\"/>\n",
              "    <path d=\"M18.56 5.44l.94 2.06.94-2.06 2.06-.94-2.06-.94-.94-2.06-.94 2.06-2.06.94zm-11 1L8.5 8.5l.94-2.06 2.06-.94-2.06-.94L8.5 2.5l-.94 2.06-2.06.94zm10 10l.94 2.06.94-2.06 2.06-.94-2.06-.94-.94-2.06-.94 2.06-2.06.94z\"/><path d=\"M17.41 7.96l-1.37-1.37c-.4-.4-.92-.59-1.43-.59-.52 0-1.04.2-1.43.59L10.3 9.45l-7.72 7.72c-.78.78-.78 2.05 0 2.83L4 21.41c.39.39.9.59 1.41.59.51 0 1.02-.2 1.41-.59l7.78-7.78 2.81-2.81c.8-.78.8-2.07 0-2.86zM5.41 20L4 18.59l7.72-7.72 1.47 1.35L5.41 20z\"/>\n",
              "  </svg>\n",
              "      </button>\n",
              "      \n",
              "  <style>\n",
              "    .colab-df-container {\n",
              "      display:flex;\n",
              "      flex-wrap:wrap;\n",
              "      gap: 12px;\n",
              "    }\n",
              "\n",
              "    .colab-df-convert {\n",
              "      background-color: #E8F0FE;\n",
              "      border: none;\n",
              "      border-radius: 50%;\n",
              "      cursor: pointer;\n",
              "      display: none;\n",
              "      fill: #1967D2;\n",
              "      height: 32px;\n",
              "      padding: 0 0 0 0;\n",
              "      width: 32px;\n",
              "    }\n",
              "\n",
              "    .colab-df-convert:hover {\n",
              "      background-color: #E2EBFA;\n",
              "      box-shadow: 0px 1px 2px rgba(60, 64, 67, 0.3), 0px 1px 3px 1px rgba(60, 64, 67, 0.15);\n",
              "      fill: #174EA6;\n",
              "    }\n",
              "\n",
              "    [theme=dark] .colab-df-convert {\n",
              "      background-color: #3B4455;\n",
              "      fill: #D2E3FC;\n",
              "    }\n",
              "\n",
              "    [theme=dark] .colab-df-convert:hover {\n",
              "      background-color: #434B5C;\n",
              "      box-shadow: 0px 1px 3px 1px rgba(0, 0, 0, 0.15);\n",
              "      filter: drop-shadow(0px 1px 2px rgba(0, 0, 0, 0.3));\n",
              "      fill: #FFFFFF;\n",
              "    }\n",
              "  </style>\n",
              "\n",
              "      <script>\n",
              "        const buttonEl =\n",
              "          document.querySelector('#df-3b63ad71-26db-4fd1-a779-d1d04a80d371 button.colab-df-convert');\n",
              "        buttonEl.style.display =\n",
              "          google.colab.kernel.accessAllowed ? 'block' : 'none';\n",
              "\n",
              "        async function convertToInteractive(key) {\n",
              "          const element = document.querySelector('#df-3b63ad71-26db-4fd1-a779-d1d04a80d371');\n",
              "          const dataTable =\n",
              "            await google.colab.kernel.invokeFunction('convertToInteractive',\n",
              "                                                     [key], {});\n",
              "          if (!dataTable) return;\n",
              "\n",
              "          const docLinkHtml = 'Like what you see? Visit the ' +\n",
              "            '<a target=\"_blank\" href=https://colab.research.google.com/notebooks/data_table.ipynb>data table notebook</a>'\n",
              "            + ' to learn more about interactive tables.';\n",
              "          element.innerHTML = '';\n",
              "          dataTable['output_type'] = 'display_data';\n",
              "          await google.colab.output.renderOutput(dataTable, element);\n",
              "          const docLink = document.createElement('div');\n",
              "          docLink.innerHTML = docLinkHtml;\n",
              "          element.appendChild(docLink);\n",
              "        }\n",
              "      </script>\n",
              "    </div>\n",
              "  </div>\n",
              "  "
            ],
            "text/plain": [
              "     Id  MSSubClass MSZoning  LotFrontage  LotArea Street Alley LotShape  \\\n",
              "0  1461          20       RH         80.0    11622   Pave   NaN      Reg   \n",
              "1  1462          20       RL         81.0    14267   Pave   NaN      IR1   \n",
              "2  1463          60       RL         74.0    13830   Pave   NaN      IR1   \n",
              "3  1464          60       RL         78.0     9978   Pave   NaN      IR1   \n",
              "4  1465         120       RL         43.0     5005   Pave   NaN      IR1   \n",
              "\n",
              "  LandContour Utilities  ... ScreenPorch PoolArea PoolQC  Fence MiscFeature  \\\n",
              "0         Lvl    AllPub  ...         120        0    NaN  MnPrv         NaN   \n",
              "1         Lvl    AllPub  ...           0        0    NaN    NaN        Gar2   \n",
              "2         Lvl    AllPub  ...           0        0    NaN  MnPrv         NaN   \n",
              "3         Lvl    AllPub  ...           0        0    NaN    NaN         NaN   \n",
              "4         HLS    AllPub  ...         144        0    NaN    NaN         NaN   \n",
              "\n",
              "  MiscVal MoSold  YrSold  SaleType  SaleCondition  \n",
              "0       0      6    2010        WD         Normal  \n",
              "1   12500      6    2010        WD         Normal  \n",
              "2       0      3    2010        WD         Normal  \n",
              "3       0      6    2010        WD         Normal  \n",
              "4       0      1    2010        WD         Normal  \n",
              "\n",
              "[5 rows x 80 columns]"
            ]
          },
          "execution_count": 9,
          "metadata": {},
          "output_type": "execute_result"
        }
      ],
      "source": [
        "test_data.head()"
      ]
    },
    {
      "cell_type": "code",
      "execution_count": 10,
      "metadata": {
        "colab": {
          "base_uri": "https://localhost:8080/",
          "height": 830
        },
        "id": "FpNywYjW8xni",
        "outputId": "5ef70515-1b18-4c19-e6ad-04b4806bb7cf",
        "vscode": {
          "languageId": "python"
        }
      },
      "outputs": [
        {
          "data": {
            "text/plain": [
              "<matplotlib.axes._subplots.AxesSubplot at 0x7f239fdee5d0>"
            ]
          },
          "execution_count": 10,
          "metadata": {},
          "output_type": "execute_result"
        },
        {
          "data": {
            "image/png": "[encoded data removed]",
            "text/plain": [
              "<Figure size 504x1008 with 2 Axes>"
            ]
          },
          "metadata": {
            "needs_background": "light"
          },
          "output_type": "display_data"
        }
      ],
      "source": [
        "top_features = train_data.corr()[['SalePrice']].sort_values(by=['SalePrice'],ascending=False).head(30)\n",
        "plt.figure(figsize=(7,14))\n",
        "sns.heatmap(top_features,cmap='magma',annot=True,annot_kws={\"size\": 20})"
      ]
    },
    {
      "cell_type": "code",
      "execution_count": 10,
      "metadata": {
        "id": "BvFHRpPw9CwD",
        "vscode": {
          "languageId": "python"
        }
      },
      "outputs": [],
      "source": []
    },
    {
      "cell_type": "markdown",
      "metadata": {
        "datalore": {
          "hide_input_from_viewers": true,
          "hide_output_from_viewers": true,
          "node_id": "m2HZ1ayKDr8MOHpK2TtCFB",
          "type": "MD"
        },
        "id": "-j1Yy20NqgbN"
      },
      "source": [
        "Как можно видеть, `train_data` имеет на один столбец больше, чем `test_data`, это столбец `SalePrice`, для обучения модели перед применением ее для предсказания меток в test_data."
      ]
    },
    {
      "cell_type": "markdown",
      "metadata": {
        "datalore": {
          "hide_input_from_viewers": true,
          "hide_output_from_viewers": true,
          "node_id": "LvA8hUPBQzVxQWBqcatifj",
          "type": "MD"
        },
        "id": "FCiMmLq3qgbO"
      },
      "source": [
        "### Проверяем нет ли тестовые данные пустых значений значений (Nan)\n",
        "\n",
        "Построим функцию `def missing_value_checker` для проверки и подсчёта пропущеных значений в test_data. А также выведем тип данных этих значений.\n"
      ]
    },
    {
      "cell_type": "code",
      "execution_count": 11,
      "metadata": {
        "colab": {
          "base_uri": "https://localhost:8080/"
        },
        "datalore": {
          "hide_input_from_viewers": true,
          "hide_output_from_viewers": true,
          "node_id": "pxUQWKUmcS70sX8fsExVI9",
          "type": "CODE"
        },
        "id": "fkHtGQIAqgbO",
        "outputId": "b4dabae9-2ad1-451f-e7ff-aa90c0fe3f18",
        "vscode": {
          "languageId": "python"
        }
      },
      "outputs": [
        {
          "name": "stdout",
          "output_type": "stream",
          "text": [
            "MSZoning: 4, type: object\n",
            "LotFrontage: 227, type: float64\n",
            "Alley: 1352, type: object\n",
            "Utilities: 2, type: object\n",
            "Exterior1st: 1, type: object\n",
            "Exterior2nd: 1, type: object\n",
            "MasVnrType: 16, type: object\n",
            "MasVnrArea: 15, type: float64\n",
            "BsmtQual: 44, type: object\n",
            "BsmtCond: 45, type: object\n",
            "BsmtExposure: 44, type: object\n",
            "BsmtFinType1: 42, type: object\n",
            "BsmtFinSF1: 1, type: float64\n",
            "BsmtFinType2: 42, type: object\n",
            "BsmtFinSF2: 1, type: float64\n",
            "BsmtUnfSF: 1, type: float64\n",
            "TotalBsmtSF: 1, type: float64\n",
            "BsmtFullBath: 2, type: float64\n",
            "BsmtHalfBath: 2, type: float64\n",
            "KitchenQual: 1, type: object\n",
            "Functional: 2, type: object\n",
            "FireplaceQu: 730, type: object\n",
            "GarageType: 76, type: object\n",
            "GarageYrBlt: 78, type: float64\n",
            "GarageFinish: 78, type: object\n",
            "GarageCars: 1, type: float64\n",
            "GarageArea: 1, type: float64\n",
            "GarageQual: 78, type: object\n",
            "GarageCond: 78, type: object\n",
            "PoolQC: 1456, type: object\n",
            "Fence: 1169, type: object\n",
            "MiscFeature: 1408, type: object\n",
            "SaleType: 1, type: object\n",
            "['MSZoning', 'LotFrontage', 'Alley', 'Utilities', 'Exterior1st', 'Exterior2nd', 'MasVnrType', 'MasVnrArea', 'BsmtQual', 'BsmtCond', 'BsmtExposure', 'BsmtFinType1', 'BsmtFinSF1', 'BsmtFinType2', 'BsmtFinSF2', 'BsmtUnfSF', 'TotalBsmtSF', 'BsmtFullBath', 'BsmtHalfBath', 'KitchenQual', 'Functional', 'FireplaceQu', 'GarageType', 'GarageYrBlt', 'GarageFinish', 'GarageCars', 'GarageArea', 'GarageQual', 'GarageCond', 'PoolQC', 'Fence', 'MiscFeature', 'SaleType']\n",
            "33\n"
          ]
        }
      ],
      "source": [
        "def missing_value_checker(data):\n",
        "    list = []\n",
        "    for feature, content in data.items():\n",
        "        if data[feature].isnull().values.any():\n",
        "            \n",
        "            sum = data[feature].isna().sum()\n",
        "\n",
        "            type = data[feature].dtype\n",
        "\n",
        "            print (f'{feature}: {sum}, type: {type}')\n",
        "            \n",
        "            list.append(feature)\n",
        "    print(list)\n",
        "\n",
        "    print(len(list))\n",
        "\n",
        "missing_value_checker(test_data)"
      ]
    },
    {
      "cell_type": "markdown",
      "metadata": {
        "datalore": {
          "hide_input_from_viewers": true,
          "hide_output_from_viewers": true,
          "node_id": "U2c2Jm8OgAYtZqUCaBITi4",
          "type": "MD"
        },
        "id": "4967yYYnqgbP"
      },
      "source": [
        "Проверяем какие признаки в таблице можно оставить, а какие удалить. Если пропущенных значений слишком много, то удалим признак. Если их небольшое количество, то заполним `mean` или `median` для чисел, новая категория `missing` для строковых объектов.\n",
        "\n",
        "В соответствии с этим:\n",
        "\n",
        "– удалим ['Alley', 'FireplaceQu', 'PoolQC', 'Fence', 'MiscFeature'];\n",
        "\n",
        "– заполним числовое отсутствующее значение значением `mean`;\n",
        "\n",
        "– заполним строковое отсутствующее значение значением `missing`."
      ]
    },
    {
      "cell_type": "code",
      "execution_count": 12,
      "metadata": {
        "datalore": {
          "hide_input_from_viewers": true,
          "hide_output_from_viewers": true,
          "node_id": "2KCsgKLRNIzdZGdZDJavSo",
          "type": "CODE"
        },
        "id": "SSKoZ2ukqgbP",
        "vscode": {
          "languageId": "python"
        }
      },
      "outputs": [],
      "source": [
        "test_edited = test_data.drop(['Alley','FireplaceQu','PoolQC', 'Fence', 'MiscFeature'], axis=1)\n",
        "train_edited = train_data.drop(['Alley','FireplaceQu','PoolQC', 'Fence', 'MiscFeature'], axis=1)\n",
        "\n",
        "def nan_filler(data):\n",
        "    for label, content in data.items():\n",
        "        if pd.api.types.is_numeric_dtype(content):\n",
        "            data[label] = content.fillna(content.median())\n",
        "        else:\n",
        "            data[label] = content.astype(\"category\").cat.as_ordered()\n",
        "            data[label] = pd.Categorical(content).codes+1\n",
        "\n",
        "nan_filler(test_edited)\n",
        "nan_filler(train_edited)"
      ]
    },
    {
      "cell_type": "markdown",
      "metadata": {
        "datalore": {
          "hide_input_from_viewers": true,
          "hide_output_from_viewers": true,
          "node_id": "at2x2hjP7J2ggCGjl4bDdp",
          "type": "MD"
        },
        "id": "-HzEj2QkqgbQ"
      },
      "source": [
        "### Перепроверим наши данные:"
      ]
    },
    {
      "cell_type": "code",
      "execution_count": 13,
      "metadata": {
        "colab": {
          "base_uri": "https://localhost:8080/"
        },
        "datalore": {
          "hide_input_from_viewers": true,
          "hide_output_from_viewers": true,
          "node_id": "ndeDW0XUjTNQZbl08hStGd",
          "type": "CODE"
        },
        "id": "sqdmIPyWqgbR",
        "outputId": "01de9067-4f9f-4443-837a-80830432ab7f",
        "vscode": {
          "languageId": "python"
        }
      },
      "outputs": [
        {
          "name": "stdout",
          "output_type": "stream",
          "text": [
            "[]\n",
            "0\n"
          ]
        }
      ],
      "source": [
        "missing_value_checker(test_edited)"
      ]
    },
    {
      "cell_type": "code",
      "execution_count": 14,
      "metadata": {
        "colab": {
          "base_uri": "https://localhost:8080/"
        },
        "datalore": {
          "hide_input_from_viewers": true,
          "hide_output_from_viewers": true,
          "node_id": "wLLxXh3dPBZhWswJRtePAF",
          "type": "CODE"
        },
        "id": "6t4ZZfnSqgbR",
        "outputId": "729f8c34-d839-427b-8593-630f35491708",
        "vscode": {
          "languageId": "python"
        }
      },
      "outputs": [
        {
          "name": "stdout",
          "output_type": "stream",
          "text": [
            "[]\n",
            "0\n"
          ]
        }
      ],
      "source": [
        "missing_value_checker(train_edited)"
      ]
    },
    {
      "cell_type": "code",
      "execution_count": 15,
      "metadata": {
        "colab": {
          "base_uri": "https://localhost:8080/"
        },
        "datalore": {
          "hide_input_from_viewers": true,
          "hide_output_from_viewers": true,
          "node_id": "uun8jPN10ZuxbG043ZksEJ",
          "type": "CODE"
        },
        "id": "0MNw84v0qgbS",
        "outputId": "e7fe55e0-fb5e-40d4-a322-2ece05fa654a",
        "vscode": {
          "languageId": "python"
        }
      },
      "outputs": [
        {
          "data": {
            "text/plain": [
              "((1460, 76), (1459, 75))"
            ]
          },
          "execution_count": 15,
          "metadata": {},
          "output_type": "execute_result"
        }
      ],
      "source": [
        "train_edited.shape, test_edited.shape"
      ]
    },
    {
      "cell_type": "code",
      "execution_count": 16,
      "metadata": {
        "colab": {
          "base_uri": "https://localhost:8080/"
        },
        "datalore": {
          "hide_input_from_viewers": true,
          "hide_output_from_viewers": true,
          "node_id": "Rlx0t4SQFyHXlcaeU5CL3e",
          "type": "CODE"
        },
        "id": "MqiTcbhVqgbS",
        "outputId": "88579fc3-2b6e-4c22-8b5d-0146e90f8301",
        "vscode": {
          "languageId": "python"
        }
      },
      "outputs": [
        {
          "name": "stdout",
          "output_type": "stream",
          "text": [
            "<class 'pandas.core.frame.DataFrame'>\n",
            "RangeIndex: 1459 entries, 0 to 1458\n",
            "Data columns (total 75 columns):\n",
            " #   Column         Non-Null Count  Dtype  \n",
            "---  ------         --------------  -----  \n",
            " 0   Id             1459 non-null   int64  \n",
            " 1   MSSubClass     1459 non-null   int64  \n",
            " 2   MSZoning       1459 non-null   int8   \n",
            " 3   LotFrontage    1459 non-null   float64\n",
            " 4   LotArea        1459 non-null   int64  \n",
            " 5   Street         1459 non-null   int8   \n",
            " 6   LotShape       1459 non-null   int8   \n",
            " 7   LandContour    1459 non-null   int8   \n",
            " 8   Utilities      1459 non-null   int8   \n",
            " 9   LotConfig      1459 non-null   int8   \n",
            " 10  LandSlope      1459 non-null   int8   \n",
            " 11  Neighborhood   1459 non-null   int8   \n",
            " 12  Condition1     1459 non-null   int8   \n",
            " 13  Condition2     1459 non-null   int8   \n",
            " 14  BldgType       1459 non-null   int8   \n",
            " 15  HouseStyle     1459 non-null   int8   \n",
            " 16  OverallQual    1459 non-null   int64  \n",
            " 17  OverallCond    1459 non-null   int64  \n",
            " 18  YearBuilt      1459 non-null   int64  \n",
            " 19  YearRemodAdd   1459 non-null   int64  \n",
            " 20  RoofStyle      1459 non-null   int8   \n",
            " 21  RoofMatl       1459 non-null   int8   \n",
            " 22  Exterior1st    1459 non-null   int8   \n",
            " 23  Exterior2nd    1459 non-null   int8   \n",
            " 24  MasVnrType     1459 non-null   int8   \n",
            " 25  MasVnrArea     1459 non-null   float64\n",
            " 26  ExterQual      1459 non-null   int8   \n",
            " 27  ExterCond      1459 non-null   int8   \n",
            " 28  Foundation     1459 non-null   int8   \n",
            " 29  BsmtQual       1459 non-null   int8   \n",
            " 30  BsmtCond       1459 non-null   int8   \n",
            " 31  BsmtExposure   1459 non-null   int8   \n",
            " 32  BsmtFinType1   1459 non-null   int8   \n",
            " 33  BsmtFinSF1     1459 non-null   float64\n",
            " 34  BsmtFinType2   1459 non-null   int8   \n",
            " 35  BsmtFinSF2     1459 non-null   float64\n",
            " 36  BsmtUnfSF      1459 non-null   float64\n",
            " 37  TotalBsmtSF    1459 non-null   float64\n",
            " 38  Heating        1459 non-null   int8   \n",
            " 39  HeatingQC      1459 non-null   int8   \n",
            " 40  CentralAir     1459 non-null   int8   \n",
            " 41  Electrical     1459 non-null   int8   \n",
            " 42  1stFlrSF       1459 non-null   int64  \n",
            " 43  2ndFlrSF       1459 non-null   int64  \n",
            " 44  LowQualFinSF   1459 non-null   int64  \n",
            " 45  GrLivArea      1459 non-null   int64  \n",
            " 46  BsmtFullBath   1459 non-null   float64\n",
            " 47  BsmtHalfBath   1459 non-null   float64\n",
            " 48  FullBath       1459 non-null   int64  \n",
            " 49  HalfBath       1459 non-null   int64  \n",
            " 50  BedroomAbvGr   1459 non-null   int64  \n",
            " 51  KitchenAbvGr   1459 non-null   int64  \n",
            " 52  KitchenQual    1459 non-null   int8   \n",
            " 53  TotRmsAbvGrd   1459 non-null   int64  \n",
            " 54  Functional     1459 non-null   int8   \n",
            " 55  Fireplaces     1459 non-null   int64  \n",
            " 56  GarageType     1459 non-null   int8   \n",
            " 57  GarageYrBlt    1459 non-null   float64\n",
            " 58  GarageFinish   1459 non-null   int8   \n",
            " 59  GarageCars     1459 non-null   float64\n",
            " 60  GarageArea     1459 non-null   float64\n",
            " 61  GarageQual     1459 non-null   int8   \n",
            " 62  GarageCond     1459 non-null   int8   \n",
            " 63  PavedDrive     1459 non-null   int8   \n",
            " 64  WoodDeckSF     1459 non-null   int64  \n",
            " 65  OpenPorchSF    1459 non-null   int64  \n",
            " 66  EnclosedPorch  1459 non-null   int64  \n",
            " 67  3SsnPorch      1459 non-null   int64  \n",
            " 68  ScreenPorch    1459 non-null   int64  \n",
            " 69  PoolArea       1459 non-null   int64  \n",
            " 70  MiscVal        1459 non-null   int64  \n",
            " 71  MoSold         1459 non-null   int64  \n",
            " 72  YrSold         1459 non-null   int64  \n",
            " 73  SaleType       1459 non-null   int8   \n",
            " 74  SaleCondition  1459 non-null   int8   \n",
            "dtypes: float64(11), int64(26), int8(38)\n",
            "memory usage: 476.0 KB\n"
          ]
        }
      ],
      "source": [
        "test_edited.info()"
      ]
    },
    {
      "cell_type": "code",
      "execution_count": 17,
      "metadata": {
        "colab": {
          "base_uri": "https://localhost:8080/"
        },
        "datalore": {
          "hide_input_from_viewers": true,
          "hide_output_from_viewers": true,
          "node_id": "F2soDeOs0hu9vFpzLvQWtO",
          "type": "CODE"
        },
        "id": "nyBmNruEqgbT",
        "outputId": "d6a29b5c-44cb-4908-ff97-cd15ae4347a0",
        "vscode": {
          "languageId": "python"
        }
      },
      "outputs": [
        {
          "name": "stdout",
          "output_type": "stream",
          "text": [
            "<class 'pandas.core.frame.DataFrame'>\n",
            "RangeIndex: 1460 entries, 0 to 1459\n",
            "Data columns (total 76 columns):\n",
            " #   Column         Non-Null Count  Dtype  \n",
            "---  ------         --------------  -----  \n",
            " 0   Id             1460 non-null   int64  \n",
            " 1   MSSubClass     1460 non-null   int64  \n",
            " 2   MSZoning       1460 non-null   int8   \n",
            " 3   LotFrontage    1460 non-null   float64\n",
            " 4   LotArea        1460 non-null   int64  \n",
            " 5   Street         1460 non-null   int8   \n",
            " 6   LotShape       1460 non-null   int8   \n",
            " 7   LandContour    1460 non-null   int8   \n",
            " 8   Utilities      1460 non-null   int8   \n",
            " 9   LotConfig      1460 non-null   int8   \n",
            " 10  LandSlope      1460 non-null   int8   \n",
            " 11  Neighborhood   1460 non-null   int8   \n",
            " 12  Condition1     1460 non-null   int8   \n",
            " 13  Condition2     1460 non-null   int8   \n",
            " 14  BldgType       1460 non-null   int8   \n",
            " 15  HouseStyle     1460 non-null   int8   \n",
            " 16  OverallQual    1460 non-null   int64  \n",
            " 17  OverallCond    1460 non-null   int64  \n",
            " 18  YearBuilt      1460 non-null   int64  \n",
            " 19  YearRemodAdd   1460 non-null   int64  \n",
            " 20  RoofStyle      1460 non-null   int8   \n",
            " 21  RoofMatl       1460 non-null   int8   \n",
            " 22  Exterior1st    1460 non-null   int8   \n",
            " 23  Exterior2nd    1460 non-null   int8   \n",
            " 24  MasVnrType     1460 non-null   int8   \n",
            " 25  MasVnrArea     1460 non-null   float64\n",
            " 26  ExterQual      1460 non-null   int8   \n",
            " 27  ExterCond      1460 non-null   int8   \n",
            " 28  Foundation     1460 non-null   int8   \n",
            " 29  BsmtQual       1460 non-null   int8   \n",
            " 30  BsmtCond       1460 non-null   int8   \n",
            " 31  BsmtExposure   1460 non-null   int8   \n",
            " 32  BsmtFinType1   1460 non-null   int8   \n",
            " 33  BsmtFinSF1     1460 non-null   int64  \n",
            " 34  BsmtFinType2   1460 non-null   int8   \n",
            " 35  BsmtFinSF2     1460 non-null   int64  \n",
            " 36  BsmtUnfSF      1460 non-null   int64  \n",
            " 37  TotalBsmtSF    1460 non-null   int64  \n",
            " 38  Heating        1460 non-null   int8   \n",
            " 39  HeatingQC      1460 non-null   int8   \n",
            " 40  CentralAir     1460 non-null   int8   \n",
            " 41  Electrical     1460 non-null   int8   \n",
            " 42  1stFlrSF       1460 non-null   int64  \n",
            " 43  2ndFlrSF       1460 non-null   int64  \n",
            " 44  LowQualFinSF   1460 non-null   int64  \n",
            " 45  GrLivArea      1460 non-null   int64  \n",
            " 46  BsmtFullBath   1460 non-null   int64  \n",
            " 47  BsmtHalfBath   1460 non-null   int64  \n",
            " 48  FullBath       1460 non-null   int64  \n",
            " 49  HalfBath       1460 non-null   int64  \n",
            " 50  BedroomAbvGr   1460 non-null   int64  \n",
            " 51  KitchenAbvGr   1460 non-null   int64  \n",
            " 52  KitchenQual    1460 non-null   int8   \n",
            " 53  TotRmsAbvGrd   1460 non-null   int64  \n",
            " 54  Functional     1460 non-null   int8   \n",
            " 55  Fireplaces     1460 non-null   int64  \n",
            " 56  GarageType     1460 non-null   int8   \n",
            " 57  GarageYrBlt    1460 non-null   float64\n",
            " 58  GarageFinish   1460 non-null   int8   \n",
            " 59  GarageCars     1460 non-null   int64  \n",
            " 60  GarageArea     1460 non-null   int64  \n",
            " 61  GarageQual     1460 non-null   int8   \n",
            " 62  GarageCond     1460 non-null   int8   \n",
            " 63  PavedDrive     1460 non-null   int8   \n",
            " 64  WoodDeckSF     1460 non-null   int64  \n",
            " 65  OpenPorchSF    1460 non-null   int64  \n",
            " 66  EnclosedPorch  1460 non-null   int64  \n",
            " 67  3SsnPorch      1460 non-null   int64  \n",
            " 68  ScreenPorch    1460 non-null   int64  \n",
            " 69  PoolArea       1460 non-null   int64  \n",
            " 70  MiscVal        1460 non-null   int64  \n",
            " 71  MoSold         1460 non-null   int64  \n",
            " 72  YrSold         1460 non-null   int64  \n",
            " 73  SaleType       1460 non-null   int8   \n",
            " 74  SaleCondition  1460 non-null   int8   \n",
            " 75  SalePrice      1460 non-null   int64  \n",
            "dtypes: float64(3), int64(35), int8(38)\n",
            "memory usage: 487.7 KB\n"
          ]
        }
      ],
      "source": [
        "train_edited.info()"
      ]
    },
    {
      "cell_type": "markdown",
      "metadata": {
        "datalore": {
          "hide_input_from_viewers": true,
          "hide_output_from_viewers": true,
          "node_id": "sctXpXpVAyHpq6e2u72Jit",
          "type": "MD"
        },
        "id": "vKgkZDivqgbT"
      },
      "source": [
        "### Разделим данные\n",
        "\n",
        "Поскольку мы не знаем метку (Цена) тестовых данных, для оценки модели, чтобы получить лучшую модель перед прогнозированием тестовых данных, разделим данные в файле train.scv на обучающие и проверочные данные, соотношение составляет 20%."
      ]
    },
    {
      "cell_type": "code",
      "execution_count": 18,
      "metadata": {
        "datalore": {
          "hide_input_from_viewers": true,
          "hide_output_from_viewers": true,
          "node_id": "t8LurcYSC79LJFUQFBR6IP",
          "type": "CODE"
        },
        "id": "yvQ0kfLRqgbU",
        "vscode": {
          "languageId": "python"
        }
      },
      "outputs": [],
      "source": [
        "X = train_edited.drop('SalePrice', axis=1)\n",
        "y = train_edited['SalePrice']\n",
        "\n",
        "X_train, X_val, y_train, y_val = train_test_split(X, y, test_size = 0.2)"
      ]
    },
    {
      "cell_type": "code",
      "execution_count": 19,
      "metadata": {
        "colab": {
          "base_uri": "https://localhost:8080/"
        },
        "datalore": {
          "hide_input_from_viewers": true,
          "hide_output_from_viewers": true,
          "node_id": "i93j4GwqcU1GyQ4VPlqVfO",
          "type": "CODE"
        },
        "id": "_TAU5sRXqgbU",
        "outputId": "bb2f9efd-e8db-4d13-bfb6-d9e56a93efa4",
        "vscode": {
          "languageId": "python"
        }
      },
      "outputs": [
        {
          "data": {
            "text/plain": [
              "((1168, 75), (1459, 75))"
            ]
          },
          "execution_count": 19,
          "metadata": {},
          "output_type": "execute_result"
        }
      ],
      "source": [
        "X_train.shape, test_edited.shape"
      ]
    },
    {
      "cell_type": "markdown",
      "metadata": {
        "datalore": {
          "hide_input_from_viewers": true,
          "hide_output_from_viewers": true,
          "node_id": "rwifuS2QgPW48EMtsBXdFH",
          "type": "MD"
        },
        "id": "zrypw_A2qgbV"
      },
      "source": [
        "## Моделирование"
      ]
    },
    {
      "cell_type": "markdown",
      "metadata": {
        "datalore": {
          "hide_input_from_viewers": true,
          "hide_output_from_viewers": true,
          "node_id": "ZV0KjiWMU6QB7jLp3j5yc8",
          "type": "MD"
        },
        "id": "WiKPuD2cqgbV"
      },
      "source": [
        "### Построение и обучение модели"
      ]
    },
    {
      "cell_type": "markdown",
      "metadata": {
        "datalore": {
          "hide_input_from_viewers": true,
          "hide_output_from_viewers": true,
          "node_id": "G277rUWTnvZaphr9V2bwEz",
          "type": "MD"
        },
        "id": "tHbXRaVdqgbV"
      },
      "source": [
        "\n",
        "Создайте последовательную модель нейронной сети с помощью фрэймворков тренировки нейронных сетей как: Torch или Tensorflow. "
      ]
    },
    {
      "cell_type": "code",
      "execution_count": 20,
      "metadata": {
        "colab": {
          "base_uri": "https://localhost:8080/"
        },
        "datalore": {
          "hide_input_from_viewers": true,
          "hide_output_from_viewers": true,
          "node_id": "MpU8VN6DOjpBNi6I834Lpu",
          "type": "CODE"
        },
        "id": "WCz-ynZYqgbW",
        "outputId": "549b97aa-4f9a-46bc-f749-5f18383909b9",
        "vscode": {
          "languageId": "python"
        }
      },
      "outputs": [
        {
          "name": "stdout",
          "output_type": "stream",
          "text": [
            "Model: \"sequential\"\n",
            "_________________________________________________________________\n",
            " Layer (type)                Output Shape              Param #   \n",
            "=================================================================\n",
            " dense (Dense)               (None, 320)               24320     \n",
            "                                                                 \n",
            " dense_1 (Dense)             (None, 384)               123264    \n",
            "                                                                 \n",
            " dense_2 (Dense)             (None, 352)               135520    \n",
            "                                                                 \n",
            " dense_3 (Dense)             (None, 448)               158144    \n",
            "                                                                 \n",
            " dense_4 (Dense)             (None, 160)               71840     \n",
            "                                                                 \n",
            " dense_5 (Dense)             (None, 160)               25760     \n",
            "                                                                 \n",
            " dense_6 (Dense)             (None, 32)                5152      \n",
            "                                                                 \n",
            " dense_7 (Dense)             (None, 1)                 33        \n",
            "                                                                 \n",
            "=================================================================\n",
            "Total params: 544,033\n",
            "Trainable params: 544,033\n",
            "Non-trainable params: 0\n",
            "_________________________________________________________________\n"
          ]
        }
      ],
      "source": [
        "import tensorflow as tf\n",
        "from tensorflow import keras\n",
        "from keras.models import Sequential\n",
        "from keras.layers import Dense\n",
        "from keras.optimizers import Adam\n",
        "\n",
        "tf.random.set_seed(40) #Для обеспечения воспроизводимости результатов устанавливается функция seed\n",
        "\n",
        "def create_model():\n",
        "    model = Sequential()\n",
        "    model.add(Dense(320, input_dim=X.shape[1], activation='relu'))\n",
        "    model.add(Dense(384, activation='relu'))\n",
        "    model.add(Dense(352, activation='relu'))\n",
        "    model.add(Dense(448, activation='relu'))\n",
        "    model.add(Dense(160, activation='relu'))\n",
        "    model.add(Dense(160, activation='relu'))\n",
        "    model.add(Dense(32, activation='relu'))\n",
        "    model.add(Dense(1))\n",
        "    model.compile(optimizer=Adam(learning_rate=0.0001), loss = 'mse')\n",
        "    return model\n",
        "\n",
        "model = create_model()\n",
        "model.summary()\n"
      ]
    },
    {
      "cell_type": "markdown",
      "metadata": {
        "datalore": {
          "hide_input_from_viewers": true,
          "hide_output_from_viewers": true,
          "node_id": "TuMuPzKI9mkpXMfMOnK1LA",
          "type": "MD"
        },
        "id": "3Lz4-9-FqgbW"
      },
      "source": [
        "Скомпилируйте нейронную сеть, выбрав функцию потерь и оптимизатор соответственно."
      ]
    },
    {
      "cell_type": "markdown",
      "metadata": {
        "datalore": {
          "hide_input_from_viewers": true,
          "hide_output_from_viewers": true,
          "node_id": "wUdHBe7xu6vMejIXVhekbo",
          "type": "MD"
        },
        "id": "U_GaQ_yTqgbX"
      },
      "source": [
        "Обучите модель на обучающих данных `X_train` и `y_train` задав гиперпараметры вашей модели нейронной сети, например количество эпох (epochs), размер мини-выборки (batch_size) и другие."
      ]
    },
    {
      "cell_type": "code",
      "execution_count": 21,
      "metadata": {
        "colab": {
          "base_uri": "https://localhost:8080/"
        },
        "datalore": {
          "hide_input_from_viewers": true,
          "hide_output_from_viewers": true,
          "node_id": "3vAX3eHvqUuLLDkTWRLTni",
          "type": "CODE"
        },
        "id": "xNWu6sQ6qgbX",
        "outputId": "08f22f52-aab1-4421-9b57-8d4c154783d0",
        "vscode": {
          "languageId": "python"
        }
      },
      "outputs": [
        {
          "name": "stdout",
          "output_type": "stream",
          "text": [
            "Epoch 1/20\n",
            "37/37 - 2s - loss: 39101403136.0000 - val_loss: 35082067968.0000 - 2s/epoch - 41ms/step\n",
            "Epoch 2/20\n",
            "37/37 - 0s - loss: 30770919424.0000 - val_loss: 14453408768.0000 - 415ms/epoch - 11ms/step\n",
            "Epoch 3/20\n",
            "37/37 - 0s - loss: 16372153344.0000 - val_loss: 8057181696.0000 - 397ms/epoch - 11ms/step\n",
            "Epoch 4/20\n",
            "37/37 - 0s - loss: 12150648832.0000 - val_loss: 6933134848.0000 - 359ms/epoch - 10ms/step\n",
            "Epoch 5/20\n",
            "37/37 - 0s - loss: 9780817920.0000 - val_loss: 5312666624.0000 - 418ms/epoch - 11ms/step\n",
            "Epoch 6/20\n",
            "37/37 - 0s - loss: 7905351680.0000 - val_loss: 4763067392.0000 - 360ms/epoch - 10ms/step\n",
            "Epoch 7/20\n",
            "37/37 - 0s - loss: 6574096384.0000 - val_loss: 4437694976.0000 - 374ms/epoch - 10ms/step\n",
            "Epoch 8/20\n",
            "37/37 - 0s - loss: 5609098752.0000 - val_loss: 4214348544.0000 - 393ms/epoch - 11ms/step\n",
            "Epoch 9/20\n",
            "37/37 - 0s - loss: 4828011520.0000 - val_loss: 4122633728.0000 - 385ms/epoch - 10ms/step\n",
            "Epoch 10/20\n",
            "37/37 - 0s - loss: 4491518976.0000 - val_loss: 3945328640.0000 - 418ms/epoch - 11ms/step\n",
            "Epoch 11/20\n",
            "37/37 - 1s - loss: 4031642368.0000 - val_loss: 3957645312.0000 - 658ms/epoch - 18ms/step\n",
            "Epoch 12/20\n",
            "37/37 - 1s - loss: 3787437312.0000 - val_loss: 3763614720.0000 - 844ms/epoch - 23ms/step\n",
            "Epoch 13/20\n",
            "37/37 - 1s - loss: 3553152000.0000 - val_loss: 3686693888.0000 - 565ms/epoch - 15ms/step\n",
            "Epoch 14/20\n",
            "37/37 - 0s - loss: 3383455744.0000 - val_loss: 3593301504.0000 - 364ms/epoch - 10ms/step\n",
            "Epoch 15/20\n",
            "37/37 - 0s - loss: 3242753024.0000 - val_loss: 3475271936.0000 - 364ms/epoch - 10ms/step\n",
            "Epoch 16/20\n",
            "37/37 - 0s - loss: 3097732096.0000 - val_loss: 3349569280.0000 - 397ms/epoch - 11ms/step\n",
            "Epoch 17/20\n",
            "37/37 - 0s - loss: 2923008256.0000 - val_loss: 3329592064.0000 - 364ms/epoch - 10ms/step\n",
            "Epoch 18/20\n",
            "37/37 - 0s - loss: 2778518784.0000 - val_loss: 3133518080.0000 - 418ms/epoch - 11ms/step\n",
            "Epoch 19/20\n",
            "37/37 - 0s - loss: 2642826240.0000 - val_loss: 3061985280.0000 - 354ms/epoch - 10ms/step\n",
            "Epoch 20/20\n",
            "37/37 - 0s - loss: 2470410240.0000 - val_loss: 2875814912.0000 - 354ms/epoch - 10ms/step\n"
          ]
        }
      ],
      "source": [
        "history = model.fit(\n",
        "    X_train,\n",
        "    y_train,\n",
        "    epochs=20,\n",
        "    shuffle=True,\n",
        "    batch_size=32,\n",
        "    validation_data=(X_val, y_val),\n",
        "    verbose=2.\n",
        "    \n",
        ")"
      ]
    },
    {
      "cell_type": "markdown",
      "metadata": {
        "datalore": {
          "hide_input_from_viewers": true,
          "hide_output_from_viewers": true,
          "node_id": "LZFQS0AKCW5TXjLQTrI0OR",
          "type": "MD"
        },
        "id": "b5AOpBoVqgbY"
      },
      "source": [
        "**Оцените полученные результаты**"
      ]
    },
    {
      "cell_type": "code",
      "execution_count": 22,
      "metadata": {
        "colab": {
          "base_uri": "https://localhost:8080/",
          "height": 598
        },
        "datalore": {
          "hide_input_from_viewers": true,
          "hide_output_from_viewers": true,
          "node_id": "wZBd4zSZSgFw6r0HmnY5NE",
          "type": "CODE"
        },
        "id": "nOHFlukGqgbY",
        "outputId": "bc91efb2-c6ec-4351-b039-4eb05f9324e1",
        "vscode": {
          "languageId": "python"
        }
      },
      "outputs": [
        {
          "name": "stdout",
          "output_type": "stream",
          "text": [
            "{'loss': [39101403136.0, 30770919424.0, 16372153344.0, 12150648832.0, 9780817920.0, 7905351680.0, 6574096384.0, 5609098752.0, 4828011520.0, 4491518976.0, 4031642368.0, 3787437312.0, 3553152000.0, 3383455744.0, 3242753024.0, 3097732096.0, 2923008256.0, 2778518784.0, 2642826240.0, 2470410240.0], 'val_loss': [35082067968.0, 14453408768.0, 8057181696.0, 6933134848.0, 5312666624.0, 4763067392.0, 4437694976.0, 4214348544.0, 4122633728.0, 3945328640.0, 3957645312.0, 3763614720.0, 3686693888.0, 3593301504.0, 3475271936.0, 3349569280.0, 3329592064.0, 3133518080.0, 3061985280.0, 2875814912.0]}\n"
          ]
        },
        {
          "data": {
            "image/png": "[encoded data removed]",
            "text/plain": [
              "<Figure size 1152x648 with 1 Axes>"
            ]
          },
          "metadata": {
            "needs_background": "light"
          },
          "output_type": "display_data"
        }
      ],
      "source": [
        "pd.DataFrame(history.history).plot(figsize=(16,9))\n",
        "plt.grid()\n",
        "plt.ylabel('loss')\n",
        "plt.xlabel('epoch')\n",
        "print(history.history)"
      ]
    },
    {
      "cell_type": "code",
      "execution_count": 23,
      "metadata": {
        "colab": {
          "base_uri": "https://localhost:8080/"
        },
        "datalore": {
          "hide_input_from_viewers": true,
          "hide_output_from_viewers": true,
          "node_id": "lMG4cd8mpOR6KHAh9Azgoo",
          "type": "CODE"
        },
        "id": "gak3XQr-qgbZ",
        "outputId": "10135c3e-5f52-43a8-d07f-141a4a1b0ed1",
        "vscode": {
          "languageId": "python"
        }
      },
      "outputs": [
        {
          "name": "stdout",
          "output_type": "stream",
          "text": [
            "10/10 [==============================] - 0s 4ms/step - loss: 2875814912.0000\n"
          ]
        }
      ],
      "source": [
        "scores = model.evaluate(X_val, y_val, verbose=1)"
      ]
    },
    {
      "cell_type": "markdown",
      "metadata": {
        "datalore": {
          "hide_input_from_viewers": true,
          "hide_output_from_viewers": true,
          "node_id": "WHgYPYiiXxd2J3kqISUUbA",
          "type": "MD"
        },
        "id": "1EjX3qz2qgba"
      },
      "source": [
        "### Предсказание"
      ]
    },
    {
      "cell_type": "code",
      "execution_count": 24,
      "metadata": {
        "colab": {
          "base_uri": "https://localhost:8080/"
        },
        "datalore": {
          "hide_input_from_viewers": true,
          "hide_output_from_viewers": true,
          "node_id": "aiGNSLedTFos5pjgz0KiMg",
          "type": "CODE"
        },
        "id": "ys8YNFx6qgbb",
        "outputId": "02906814-feeb-429b-ebab-a7be6e9fe6da",
        "vscode": {
          "languageId": "python"
        }
      },
      "outputs": [
        {
          "name": "stdout",
          "output_type": "stream",
          "text": [
            "46/46 [==============================] - 0s 4ms/step\n"
          ]
        },
        {
          "data": {
            "text/plain": [
              "array([[150564.  ],\n",
              "       [137234.88],\n",
              "       [188141.83],\n",
              "       ...,\n",
              "       [193758.08],\n",
              "       [143306.64],\n",
              "       [217562.66]], dtype=float32)"
            ]
          },
          "execution_count": 24,
          "metadata": {},
          "output_type": "execute_result"
        }
      ],
      "source": [
        "preds = model.predict(test_edited)\n",
        "preds"
      ]
    },
    {
      "cell_type": "code",
      "execution_count": 25,
      "metadata": {
        "colab": {
          "base_uri": "https://localhost:8080/",
          "height": 424
        },
        "datalore": {
          "hide_input_from_viewers": true,
          "hide_output_from_viewers": true,
          "node_id": "NvP6Ro1j8jijcQa8KEVbbS",
          "type": "CODE"
        },
        "id": "qbpYk6IFqgbd",
        "outputId": "f5b8a3eb-2f86-4431-fda9-951f53158dc7",
        "vscode": {
          "languageId": "python"
        }
      },
      "outputs": [
        {
          "data": {
            "text/html": [
              "\n",
              "  <div id=\"df-c591db5f-b0f5-429d-98ca-7ebaeac787ba\">\n",
              "    <div class=\"colab-df-container\">\n",
              "      <div>\n",
              "<style scoped>\n",
              "    .dataframe tbody tr th:only-of-type {\n",
              "        vertical-align: middle;\n",
              "    }\n",
              "\n",
              "    .dataframe tbody tr th {\n",
              "        vertical-align: top;\n",
              "    }\n",
              "\n",
              "    .dataframe thead th {\n",
              "        text-align: right;\n",
              "    }\n",
              "</style>\n",
              "<table border=\"1\" class=\"dataframe\">\n",
              "  <thead>\n",
              "    <tr style=\"text-align: right;\">\n",
              "      <th></th>\n",
              "      <th>Id</th>\n",
              "      <th>SalePrice</th>\n",
              "    </tr>\n",
              "  </thead>\n",
              "  <tbody>\n",
              "    <tr>\n",
              "      <th>0</th>\n",
              "      <td>1461</td>\n",
              "      <td>150564.000000</td>\n",
              "    </tr>\n",
              "    <tr>\n",
              "      <th>1</th>\n",
              "      <td>1462</td>\n",
              "      <td>137234.875000</td>\n",
              "    </tr>\n",
              "    <tr>\n",
              "      <th>2</th>\n",
              "      <td>1463</td>\n",
              "      <td>188141.828125</td>\n",
              "    </tr>\n",
              "    <tr>\n",
              "      <th>3</th>\n",
              "      <td>1464</td>\n",
              "      <td>189566.906250</td>\n",
              "    </tr>\n",
              "    <tr>\n",
              "      <th>4</th>\n",
              "      <td>1465</td>\n",
              "      <td>174764.218750</td>\n",
              "    </tr>\n",
              "    <tr>\n",
              "      <th>...</th>\n",
              "      <td>...</td>\n",
              "      <td>...</td>\n",
              "    </tr>\n",
              "    <tr>\n",
              "      <th>1454</th>\n",
              "      <td>2915</td>\n",
              "      <td>125325.007812</td>\n",
              "    </tr>\n",
              "    <tr>\n",
              "      <th>1455</th>\n",
              "      <td>2916</td>\n",
              "      <td>132416.578125</td>\n",
              "    </tr>\n",
              "    <tr>\n",
              "      <th>1456</th>\n",
              "      <td>2917</td>\n",
              "      <td>193758.078125</td>\n",
              "    </tr>\n",
              "    <tr>\n",
              "      <th>1457</th>\n",
              "      <td>2918</td>\n",
              "      <td>143306.640625</td>\n",
              "    </tr>\n",
              "    <tr>\n",
              "      <th>1458</th>\n",
              "      <td>2919</td>\n",
              "      <td>217562.656250</td>\n",
              "    </tr>\n",
              "  </tbody>\n",
              "</table>\n",
              "<p>1459 rows × 2 columns</p>\n",
              "</div>\n",
              "      <button class=\"colab-df-convert\" onclick=\"convertToInteractive('df-c591db5f-b0f5-429d-98ca-7ebaeac787ba')\"\n",
              "              title=\"Convert this dataframe to an interactive table.\"\n",
              "              style=\"display:none;\">\n",
              "        \n",
              "  <svg xmlns=\"http://www.w3.org/2000/svg\" height=\"24px\"viewBox=\"0 0 24 24\"\n",
              "       width=\"24px\">\n",
              "    <path d=\"M0 0h24v24H0V0z\" fill=\"none\"/>\n",
              "    <path d=\"M18.56 5.44l.94 2.06.94-2.06 2.06-.94-2.06-.94-.94-2.06-.94 2.06-2.06.94zm-11 1L8.5 8.5l.94-2.06 2.06-.94-2.06-.94L8.5 2.5l-.94 2.06-2.06.94zm10 10l.94 2.06.94-2.06 2.06-.94-2.06-.94-.94-2.06-.94 2.06-2.06.94z\"/><path d=\"M17.41 7.96l-1.37-1.37c-.4-.4-.92-.59-1.43-.59-.52 0-1.04.2-1.43.59L10.3 9.45l-7.72 7.72c-.78.78-.78 2.05 0 2.83L4 21.41c.39.39.9.59 1.41.59.51 0 1.02-.2 1.41-.59l7.78-7.78 2.81-2.81c.8-.78.8-2.07 0-2.86zM5.41 20L4 18.59l7.72-7.72 1.47 1.35L5.41 20z\"/>\n",
              "  </svg>\n",
              "      </button>\n",
              "      \n",
              "  <style>\n",
              "    .colab-df-container {\n",
              "      display:flex;\n",
              "      flex-wrap:wrap;\n",
              "      gap: 12px;\n",
              "    }\n",
              "\n",
              "    .colab-df-convert {\n",
              "      background-color: #E8F0FE;\n",
              "      border: none;\n",
              "      border-radius: 50%;\n",
              "      cursor: pointer;\n",
              "      display: none;\n",
              "      fill: #1967D2;\n",
              "      height: 32px;\n",
              "      padding: 0 0 0 0;\n",
              "      width: 32px;\n",
              "    }\n",
              "\n",
              "    .colab-df-convert:hover {\n",
              "      background-color: #E2EBFA;\n",
              "      box-shadow: 0px 1px 2px rgba(60, 64, 67, 0.3), 0px 1px 3px 1px rgba(60, 64, 67, 0.15);\n",
              "      fill: #174EA6;\n",
              "    }\n",
              "\n",
              "    [theme=dark] .colab-df-convert {\n",
              "      background-color: #3B4455;\n",
              "      fill: #D2E3FC;\n",
              "    }\n",
              "\n",
              "    [theme=dark] .colab-df-convert:hover {\n",
              "      background-color: #434B5C;\n",
              "      box-shadow: 0px 1px 3px 1px rgba(0, 0, 0, 0.15);\n",
              "      filter: drop-shadow(0px 1px 2px rgba(0, 0, 0, 0.3));\n",
              "      fill: #FFFFFF;\n",
              "    }\n",
              "  </style>\n",
              "\n",
              "      <script>\n",
              "        const buttonEl =\n",
              "          document.querySelector('#df-c591db5f-b0f5-429d-98ca-7ebaeac787ba button.colab-df-convert');\n",
              "        buttonEl.style.display =\n",
              "          google.colab.kernel.accessAllowed ? 'block' : 'none';\n",
              "\n",
              "        async function convertToInteractive(key) {\n",
              "          const element = document.querySelector('#df-c591db5f-b0f5-429d-98ca-7ebaeac787ba');\n",
              "          const dataTable =\n",
              "            await google.colab.kernel.invokeFunction('convertToInteractive',\n",
              "                                                     [key], {});\n",
              "          if (!dataTable) return;\n",
              "\n",
              "          const docLinkHtml = 'Like what you see? Visit the ' +\n",
              "            '<a target=\"_blank\" href=https://colab.research.google.com/notebooks/data_table.ipynb>data table notebook</a>'\n",
              "            + ' to learn more about interactive tables.';\n",
              "          element.innerHTML = '';\n",
              "          dataTable['output_type'] = 'display_data';\n",
              "          await google.colab.output.renderOutput(dataTable, element);\n",
              "          const docLink = document.createElement('div');\n",
              "          docLink.innerHTML = docLinkHtml;\n",
              "          element.appendChild(docLink);\n",
              "        }\n",
              "      </script>\n",
              "    </div>\n",
              "  </div>\n",
              "  "
            ],
            "text/plain": [
              "        Id      SalePrice\n",
              "0     1461  150564.000000\n",
              "1     1462  137234.875000\n",
              "2     1463  188141.828125\n",
              "3     1464  189566.906250\n",
              "4     1465  174764.218750\n",
              "...    ...            ...\n",
              "1454  2915  125325.007812\n",
              "1455  2916  132416.578125\n",
              "1456  2917  193758.078125\n",
              "1457  2918  143306.640625\n",
              "1458  2919  217562.656250\n",
              "\n",
              "[1459 rows x 2 columns]"
            ]
          },
          "execution_count": 25,
          "metadata": {},
          "output_type": "execute_result"
        }
      ],
      "source": [
        "#Эту часть рекомендуется дополнить вам, для более информативного отображения результата предсказания.\n",
        "output = pd.DataFrame(\n",
        "{\n",
        "    'Id':test_data['Id'],\n",
        "    'SalePrice': np.squeeze(preds)\n",
        "})\n",
        "\n",
        "output"
      ]
    },
    {
      "cell_type": "code",
      "execution_count": 32,
      "metadata": {
        "id": "E-Vdr54v-oLt",
        "vscode": {
          "languageId": "python"
        }
      },
      "outputs": [],
      "source": [
        "def plot_data(col, discrete=False):\n",
        "    if discrete:\n",
        "        fig, ax = plt.subplots(1,2,figsize=(14,6))\n",
        "        sns.stripplot(x=col, y=np.squeeze(preds), data=test_data, ax=ax[0])\n",
        "        sns.countplot(test_data[col], ax=ax[1])\n",
        "        fig.suptitle(str(col) + ' Analysis')\n",
        "    else:\n",
        "        fig, ax = plt.subplots(1,2,figsize=(12,6))\n",
        "        sns.scatterplot(x=col, y=np.squeeze(preds), data=test_data, ax=ax[0])\n",
        "        sns.distplot(test_data[col], kde=False, ax=ax[1])\n",
        "        fig.suptitle(str(col) + ' Analysis')"
      ]
    },
    {
      "cell_type": "code",
      "execution_count": 37,
      "metadata": {
        "colab": {
          "base_uri": "https://localhost:8080/",
          "height": 485
        },
        "id": "jTPA-Jow-_Jg",
        "outputId": "31e503ac-0c60-402c-bf6b-59d18904c489",
        "vscode": {
          "languageId": "python"
        }
      },
      "outputs": [
        {
          "name": "stderr",
          "output_type": "stream",
          "text": [
            "/usr/local/lib/python3.7/dist-packages/seaborn/_decorators.py:43: FutureWarning: Pass the following variable as a keyword arg: x. From version 0.12, the only valid positional argument will be `data`, and passing other arguments without an explicit keyword will result in an error or misinterpretation.\n",
            "  FutureWarning\n"
          ]
        },
        {
          "data": {
            "image/png": "[encoded data removed]",
            "text/plain": [
              "<Figure size 1008x432 with 2 Axes>"
            ]
          },
          "metadata": {
            "needs_background": "light"
          },
          "output_type": "display_data"
        }
      ],
      "source": [
        "plot_data('OverallQual', True)"
      ]
    },
    {
      "cell_type": "markdown",
      "metadata": {
        "datalore": {
          "hide_input_from_viewers": true,
          "hide_output_from_viewers": true,
          "node_id": "zhCfqTBB30trs93oPG12Rz",
          "type": "MD"
        },
        "id": "3guqyDd-qgbf"
      },
      "source": [
        "\n",
        "**При выполнении:**\n",
        "\n",
        "Выведите отчет нейросетевой регрессионной модели, для  прогнозирование цен на жилье. \n",
        "\n",
        "\n",
        "Подберите  разные комбинации гиперпараметров таким образом, чтобы получить лучший результат на тестовом наборе данных.\n",
        "\n",
        "Попробуйте использовать разное количество нейронов на входном слое, **например** 100, 150, 200 300.\n",
        "\n",
        "Добавьте в нейронную сеть скрытый слой с разным количеством нейронов.\n",
        "\n",
        "Используйте разное количество эпох, **например** 10, 15, 20, 25, 30.\n",
        "\n",
        "Используйте разные размеры мини-выборки (batch_size), **например** 10, 50, 100, 200.\n",
        "\n",
        "Попробуйте использовать разные значения оптимизатора `optimizers` и функции потерь `loss`. Сравните полученные результаты.\n",
        "\n",
        "**Вопросы:**\n",
        "\n",
        "Как выше перечисленные параметры влияют на полученный вами результат? \n",
        "\n",
        "Что такое эпоха (Epoch)? В чем отличие от итерации (Iteration)? Имеется ввиду `steps_per_epoch`?? Epoch - один проход по всей train_data\n",
        "\n",
        "Что такое функция активации? Какие вам известны? Как и зачем используются в нейронной сети? Функции активации: \n",
        " - sigmoid(old school because its difficult to calculate derivatives but its good for classification problems):\n",
        " $\\sigma(z) = \\dfrac{1}{1+e^{-z}}$\n",
        " - Rectified Linear Unit aka relu(used often because derivatives are calculated quickly) : $ f(x) = \\max(0, x)$\n",
        " - hyperbolic tangent: $ \\tanh(x) = \\dfrac{2}{1+e^{-2x}} - 1$"
      ]
    },
    {
      "cell_type": "code",
      "execution_count": 51,
      "metadata": {
        "id": "M3XrskMe3Qcf",
        "vscode": {
          "languageId": "python"
        }
      },
      "outputs": [],
      "source": [
        "def plot_activation_func(ax, func):\n",
        "  x = np.linspace(-5, 5, 100)\n",
        "  ax.plot(x, func(x), label=func.__name__)\n",
        "  plt.xlabel('x')\n",
        "  plt.ylabel('y')\n",
        "  ax.grid()\n",
        "  ax.legend()"
      ]
    },
    {
      "cell_type": "code",
      "execution_count": 52,
      "metadata": {
        "colab": {
          "base_uri": "https://localhost:8080/",
          "height": 388
        },
        "id": "fNaX5kH537Kv",
        "outputId": "d290d50e-6039-42fa-f3eb-457fa62c4bf2",
        "vscode": {
          "languageId": "python"
        }
      },
      "outputs": [
        {
          "data": {
            "image/png": "[encoded data removed]",
            "text/plain": [
              "<Figure size 1296x432 with 3 Axes>"
            ]
          },
          "metadata": {
            "needs_background": "light"
          },
          "output_type": "display_data"
        }
      ],
      "source": [
        "def sigmoid(x):\n",
        "  return (1) / (1+np.exp(-x)) \n",
        "\n",
        "def relu(x):\n",
        "  return np.maximum(0, x)\n",
        "\n",
        "fig, ax = plt.subplots(1, 3, figsize=(18, 6))\n",
        "plot_activation_func(ax[0], sigmoid)\n",
        "plot_activation_func(ax[1], np.tanh)\n",
        "plot_activation_func(ax[2], relu)"
      ]
    },
    {
      "cell_type": "markdown",
      "metadata": {
        "id": "qP6ADNFs3N92"
      },
      "source": [
        "Что такое MSE(Mean Squared Error) - Средняя квадратичная ошибка? Что такое MAE(Mean Absolute Error)? Для чего используются."
      ]
    },
    {
      "cell_type": "markdown",
      "metadata": {
        "id": "X7R1YBXx1fGS"
      },
      "source": [
        "$$MSE(y_{predicted}, y_{true}) = \\dfrac{1}{n}\\sum^n_{i=0}{(y_{predicted}^{(i)} - y_{true}^{(i)})^2}  $$"
      ]
    },
    {
      "cell_type": "markdown",
      "metadata": {
        "id": "LqEXIAeU2VuP"
      },
      "source": [
        "$$ MAE(y_{predicted}, y_{true})=\\dfrac{1}{n}\\sum^n_{i=0}{|y_{predicted}^{(i)}-y_{true}^{(i)}|}$$"
      ]
    }
  ],
  "metadata": {
    "accelerator": "TPU",
    "colab": {
      "provenance": []
    },
    "datalore": {
      "computation_mode": "JUPYTER",
      "packages": [],
      "version": 1
    },
    "gpuClass": "standard",
    "kernelspec": {
      "display_name": "Python",
      "language": "python",
      "name": "python"
    }
  },
  "nbformat": 4,
  "nbformat_minor": 0
}
